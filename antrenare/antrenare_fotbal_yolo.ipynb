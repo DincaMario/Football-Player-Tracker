{
 "cells": [
  {
   "cell_type": "code",
   "execution_count": null,
   "metadata": {},
   "outputs": [
    {
     "name": "stdout",
     "output_type": "stream",
     "text": [
      "Collecting roboflow\n",
      "  Downloading roboflow-1.1.58-py3-none-any.whl.metadata (9.7 kB)\n",
      "Requirement already satisfied: certifi in c:\\users\\mario\\appdata\\local\\programs\\python\\python312\\lib\\site-packages (from roboflow) (2023.11.17)\n",
      "Collecting idna==3.7 (from roboflow)\n",
      "  Downloading idna-3.7-py3-none-any.whl.metadata (9.9 kB)\n",
      "Requirement already satisfied: cycler in c:\\users\\mario\\appdata\\local\\programs\\python\\python312\\lib\\site-packages (from roboflow) (0.12.1)\n",
      "Requirement already satisfied: kiwisolver>=1.3.1 in c:\\users\\mario\\appdata\\local\\programs\\python\\python312\\lib\\site-packages (from roboflow) (1.4.8)\n",
      "Requirement already satisfied: matplotlib in c:\\users\\mario\\appdata\\local\\programs\\python\\python312\\lib\\site-packages (from roboflow) (3.10.1)\n",
      "Requirement already satisfied: numpy>=1.18.5 in c:\\users\\mario\\appdata\\local\\programs\\python\\python312\\lib\\site-packages (from roboflow) (1.26.2)\n",
      "Collecting opencv-python-headless==4.10.0.84 (from roboflow)\n",
      "  Downloading opencv_python_headless-4.10.0.84-cp37-abi3-win_amd64.whl.metadata (20 kB)\n",
      "Requirement already satisfied: Pillow>=7.1.2 in c:\\users\\mario\\appdata\\local\\programs\\python\\python312\\lib\\site-packages (from roboflow) (10.1.0)\n",
      "Collecting pillow-heif>=0.18.0 (from roboflow)\n",
      "  Downloading pillow_heif-0.21.0-cp312-cp312-win_amd64.whl.metadata (10.0 kB)\n",
      "Requirement already satisfied: python-dateutil in c:\\users\\mario\\appdata\\local\\programs\\python\\python312\\lib\\site-packages (from roboflow) (2.8.2)\n",
      "Requirement already satisfied: python-dotenv in c:\\users\\mario\\appdata\\local\\programs\\python\\python312\\lib\\site-packages (from roboflow) (1.0.1)\n",
      "Requirement already satisfied: requests in c:\\users\\mario\\appdata\\local\\programs\\python\\python312\\lib\\site-packages (from roboflow) (2.31.0)\n",
      "Requirement already satisfied: six in c:\\users\\mario\\appdata\\local\\programs\\python\\python312\\lib\\site-packages (from roboflow) (1.16.0)\n",
      "Requirement already satisfied: urllib3>=1.26.6 in c:\\users\\mario\\appdata\\local\\programs\\python\\python312\\lib\\site-packages (from roboflow) (2.1.0)\n",
      "Requirement already satisfied: tqdm>=4.41.0 in c:\\users\\mario\\appdata\\local\\programs\\python\\python312\\lib\\site-packages (from roboflow) (4.67.1)\n",
      "Requirement already satisfied: PyYAML>=5.3.1 in c:\\users\\mario\\appdata\\local\\programs\\python\\python312\\lib\\site-packages (from roboflow) (6.0.2)\n",
      "Collecting requests-toolbelt (from roboflow)\n",
      "  Downloading requests_toolbelt-1.0.0-py2.py3-none-any.whl.metadata (14 kB)\n",
      "Collecting filetype (from roboflow)\n",
      "  Downloading filetype-1.2.0-py2.py3-none-any.whl.metadata (6.5 kB)\n",
      "Requirement already satisfied: colorama in c:\\users\\mario\\appdata\\local\\programs\\python\\python312\\lib\\site-packages (from tqdm>=4.41.0->roboflow) (0.4.6)\n",
      "Requirement already satisfied: contourpy>=1.0.1 in c:\\users\\mario\\appdata\\local\\programs\\python\\python312\\lib\\site-packages (from matplotlib->roboflow) (1.3.1)\n",
      "Requirement already satisfied: fonttools>=4.22.0 in c:\\users\\mario\\appdata\\local\\programs\\python\\python312\\lib\\site-packages (from matplotlib->roboflow) (4.56.0)\n",
      "Requirement already satisfied: packaging>=20.0 in c:\\users\\mario\\appdata\\local\\programs\\python\\python312\\lib\\site-packages (from matplotlib->roboflow) (24.0)\n",
      "Requirement already satisfied: pyparsing>=2.3.1 in c:\\users\\mario\\appdata\\local\\programs\\python\\python312\\lib\\site-packages (from matplotlib->roboflow) (3.2.1)\n",
      "Requirement already satisfied: charset-normalizer<4,>=2 in c:\\users\\mario\\appdata\\local\\programs\\python\\python312\\lib\\site-packages (from requests->roboflow) (3.3.2)\n",
      "Downloading roboflow-1.1.58-py3-none-any.whl (84 kB)\n",
      "Downloading idna-3.7-py3-none-any.whl (66 kB)\n",
      "Downloading opencv_python_headless-4.10.0.84-cp37-abi3-win_amd64.whl (38.8 MB)\n",
      "   ---------------------------------------- 0.0/38.8 MB ? eta -:--:--\n",
      "   - -------------------------------------- 1.6/38.8 MB 9.3 MB/s eta 0:00:04\n",
      "   --- ------------------------------------ 3.7/38.8 MB 9.1 MB/s eta 0:00:04\n",
      "   ----- ---------------------------------- 5.2/38.8 MB 9.1 MB/s eta 0:00:04\n",
      "   ------- -------------------------------- 7.3/38.8 MB 9.1 MB/s eta 0:00:04\n",
      "   --------- ------------------------------ 9.4/38.8 MB 9.2 MB/s eta 0:00:04\n",
      "   ----------- ---------------------------- 11.5/38.8 MB 9.2 MB/s eta 0:00:03\n",
      "   ------------- -------------------------- 13.4/38.8 MB 9.2 MB/s eta 0:00:03\n",
      "   --------------- ------------------------ 15.5/38.8 MB 9.4 MB/s eta 0:00:03\n",
      "   ------------------ --------------------- 17.6/38.8 MB 9.4 MB/s eta 0:00:03\n",
      "   -------------------- ------------------- 19.7/38.8 MB 9.5 MB/s eta 0:00:03\n",
      "   ---------------------- ----------------- 22.0/38.8 MB 9.5 MB/s eta 0:00:02\n",
      "   ------------------------ --------------- 24.1/38.8 MB 9.6 MB/s eta 0:00:02\n",
      "   --------------------------- ------------ 26.5/38.8 MB 9.7 MB/s eta 0:00:02\n",
      "   ----------------------------- ---------- 28.8/38.8 MB 9.8 MB/s eta 0:00:02\n",
      "   -------------------------------- ------- 31.2/38.8 MB 9.8 MB/s eta 0:00:01\n",
      "   ---------------------------------- ----- 33.6/38.8 MB 9.9 MB/s eta 0:00:01\n",
      "   ------------------------------------- -- 35.9/38.8 MB 10.0 MB/s eta 0:00:01\n",
      "   ---------------------------------------  38.3/38.8 MB 10.1 MB/s eta 0:00:01\n",
      "   ---------------------------------------- 38.8/38.8 MB 9.9 MB/s eta 0:00:00\n",
      "Downloading pillow_heif-0.21.0-cp312-cp312-win_amd64.whl (8.7 MB)\n",
      "   ---------------------------------------- 0.0/8.7 MB ? eta -:--:--\n",
      "   --------- ------------------------------ 2.1/8.7 MB 10.7 MB/s eta 0:00:01\n",
      "   --------------------- ------------------ 4.7/8.7 MB 11.0 MB/s eta 0:00:01\n",
      "   ------------------------------- -------- 6.8/8.7 MB 11.0 MB/s eta 0:00:01\n",
      "   ---------------------------------------  8.7/8.7 MB 11.2 MB/s eta 0:00:01\n",
      "   ---------------------------------------- 8.7/8.7 MB 9.6 MB/s eta 0:00:00\n",
      "Downloading filetype-1.2.0-py2.py3-none-any.whl (19 kB)\n",
      "Downloading requests_toolbelt-1.0.0-py2.py3-none-any.whl (54 kB)\n",
      "Installing collected packages: filetype, pillow-heif, opencv-python-headless, idna, requests-toolbelt, roboflow\n",
      "  Attempting uninstall: idna\n",
      "    Found existing installation: idna 3.6\n",
      "    Uninstalling idna-3.6:\n",
      "      Successfully uninstalled idna-3.6\n",
      "Successfully installed filetype-1.2.0 idna-3.7 opencv-python-headless-4.10.0.84 pillow-heif-0.21.0 requests-toolbelt-1.0.0 roboflow-1.1.58\n",
      "Note: you may need to restart the kernel to use updated packages.\n"
     ]
    }
   ],
   "source": [
    "%pip install roboflow"
   ]
  },
  {
   "cell_type": "markdown",
   "metadata": {},
   "source": [
    "***Luam Dataset-ul\n"
   ]
  },
  {
   "cell_type": "code",
   "execution_count": 1,
   "metadata": {},
   "outputs": [
    {
     "name": "stdout",
     "output_type": "stream",
     "text": [
      "loading Roboflow workspace...\n",
      "loading Roboflow project...\n"
     ]
    }
   ],
   "source": [
    "\n",
    "\n",
    "from roboflow import Roboflow\n",
    "rf = Roboflow(api_key=\"meSPeVImrute9WGbcLId\")\n",
    "project = rf.workspace(\"roboflow-jvuqo\").project(\"football-players-detection-3zvbc\")\n",
    "version = project.version(1)\n",
    "dataset = version.download(\"yolov8\")\n"
   ]
  },
  {
   "cell_type": "markdown",
   "metadata": {},
   "source": [
    "Ne folosim de shuitl pentru a transfera toate datele intr-un alt fisier cu acelasi nume pentru a evita erori"
   ]
  },
  {
   "cell_type": "code",
   "execution_count": 5,
   "metadata": {},
   "outputs": [
    {
     "data": {
      "text/plain": [
       "'football-players-detection-1/football-players-detection-1/valid'"
      ]
     },
     "execution_count": 5,
     "metadata": {},
     "output_type": "execute_result"
    }
   ],
   "source": [
    "import shutil\n",
    "shutil.move('football-players-detection-1/train','football-players-detection-1/football-players-detection-1/train' )\n",
    "shutil.move('football-players-detection-1/test','football-players-detection-1/football-players-detection-1/test' )\n",
    "shutil.move('football-players-detection-1/valid','football-players-detection-1/football-players-detection-1/valid' )\n"
   ]
  },
  {
   "cell_type": "markdown",
   "metadata": {},
   "source": [
    "Antrenare"
   ]
  },
  {
   "cell_type": "code",
   "execution_count": null,
   "metadata": {},
   "outputs": [],
   "source": [
    "!yolo task=detect mode=train model=yolov8x.pt data={dataset.location}/data.yaml epochs=100 imgsz=640"
   ]
  },
  {
   "cell_type": "code",
   "execution_count": null,
   "metadata": {},
   "outputs": [],
   "source": []
  }
 ],
 "metadata": {
  "kernelspec": {
   "display_name": "Python 3",
   "language": "python",
   "name": "python3"
  },
  "language_info": {
   "codemirror_mode": {
    "name": "ipython",
    "version": 3
   },
   "file_extension": ".py",
   "mimetype": "text/x-python",
   "name": "python",
   "nbconvert_exporter": "python",
   "pygments_lexer": "ipython3",
   "version": "3.12.0"
  }
 },
 "nbformat": 4,
 "nbformat_minor": 2
}
